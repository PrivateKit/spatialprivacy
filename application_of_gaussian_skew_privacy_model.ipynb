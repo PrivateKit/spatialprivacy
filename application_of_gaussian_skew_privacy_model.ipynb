{
 "cells": [
  {
   "cell_type": "code",
   "execution_count": 1,
   "metadata": {},
   "outputs": [],
   "source": [
    "import pandas as pd\n",
    "import sqlite3\n",
    "import numpy as np\n",
    "import math"
   ]
  },
  {
   "cell_type": "code",
   "execution_count": 2,
   "metadata": {},
   "outputs": [],
   "source": [
    "conn = sqlite3.connect(\"/Users/kevinmcpherson/pathcheck/latlongdata.sql.db\")"
   ]
  },
  {
   "cell_type": "code",
   "execution_count": 3,
   "metadata": {},
   "outputs": [],
   "source": [
    "cur = conn.cursor()"
   ]
  },
  {
   "cell_type": "code",
   "execution_count": 4,
   "metadata": {},
   "outputs": [
    {
     "data": {
      "text/plain": [
       "[('data_for_feeding_to_the_model',)]"
      ]
     },
     "execution_count": 4,
     "metadata": {},
     "output_type": "execute_result"
    }
   ],
   "source": [
    "cur.execute(\"SELECT name FROM sqlite_master WHERE type = 'table'\").fetchall()"
   ]
  },
  {
   "cell_type": "code",
   "execution_count": 5,
   "metadata": {},
   "outputs": [],
   "source": [
    "execute_command = cur.execute(\"SELECT * FROM data_for_feeding_to_the_model\").fetchall()"
   ]
  },
  {
   "cell_type": "code",
   "execution_count": 6,
   "metadata": {},
   "outputs": [
    {
     "name": "stdout",
     "output_type": "stream",
     "text": [
      "[('index', 'longitude', 'latitude'), ('0', '-71.04041', '42.33126'), ('1', '-71.11302', '42.2886'), ('2', '-71.11225', '42.28982'), ('3', '-71.08505', '42.34552'), ('4', '-71.12941', '42.2363'), ('5', '-71.06426', '42.37893'), ('6', '-71.0806', '42.2994'), ('7', '-71.15783', '42.29001'), ('8', '-71.05025', '42.33788'), ('9', '-71.14355', '42.2914'), ('10', '-71.0791', '42.29326'), ('11', '-71.15479', '42.348486'), ('12', '-71.11191', '42.24752'), ('13', '-71.12951', '42.28844'), ('14', '-71.16973', '42.35466'), ('15', '-71.0550316', '42.3594699'), ('16', '-71.0877', '42.27573'), ('17', '-71.07213', '42.35306'), ('18', '-71.07712', '42.29655'), ('19', '-71.08135', '42.30327'), ('20', '-71.16981', '42.28692'), ('21', '-71.047823', '42.286476'), ('22', '-71.06235', '42.315992'), ('23', '-71.08472', '42.28941'), ('24', '-71.12154', '42.24674'), ('25', '-71.105178', '42.330817'), ('26', '-71.10589', '42.26676'), ('27', '-71.11734', '42.27557'), ('28', '-71.06567', '42.31939'), ('29', '-71.08634', '42.35145'), ('30', '-71.1147', '42.26792'), ('31', '-71.07716', '42.29926'), ('32', '-71.08406', '42.3065'), ('33', '-71.11922', '42.313'), ('34', '-71.03262', '42.38211'), ('35', '-71.11459', '42.26337'), ('36', '311414', '344'), ('37', '-71.06421', '42.30444'), ('38', '-71.1306', '31'), ('39', '-71.0886', '42.27606'), ('40', '-71.08242', '42.27682'), ('41', '-71.06988', '42.34366'), ('42', '-71.0623368', '42.3745968'), ('43', '-71.12328', '42.35164'), ('44', '-71.14984', '42.3529'), ('45', '-71.05248', '42.28196'), ('46', '-331231.0567', '42.33245'), ('47', '31212', '331'), ('48', '-71.15528', '42.34168'), ('49', '-71.17179', '42.28612')]\n"
     ]
    }
   ],
   "source": [
    "print(execute_command)"
   ]
  },
  {
   "cell_type": "code",
   "execution_count": 7,
   "metadata": {
    "scrolled": true
   },
   "outputs": [
    {
     "data": {
      "text/html": [
       "<div>\n",
       "<style scoped>\n",
       "    .dataframe tbody tr th:only-of-type {\n",
       "        vertical-align: middle;\n",
       "    }\n",
       "\n",
       "    .dataframe tbody tr th {\n",
       "        vertical-align: top;\n",
       "    }\n",
       "\n",
       "    .dataframe thead th {\n",
       "        text-align: right;\n",
       "    }\n",
       "</style>\n",
       "<table border=\"1\" class=\"dataframe\">\n",
       "  <thead>\n",
       "    <tr style=\"text-align: right;\">\n",
       "      <th></th>\n",
       "      <th>lat</th>\n",
       "      <th>long</th>\n",
       "    </tr>\n",
       "  </thead>\n",
       "  <tbody>\n",
       "    <tr>\n",
       "      <th>0</th>\n",
       "      <td>-71.040410</td>\n",
       "      <td>42.331260</td>\n",
       "    </tr>\n",
       "    <tr>\n",
       "      <th>1</th>\n",
       "      <td>-71.113020</td>\n",
       "      <td>42.288600</td>\n",
       "    </tr>\n",
       "    <tr>\n",
       "      <th>2</th>\n",
       "      <td>-71.112250</td>\n",
       "      <td>42.289820</td>\n",
       "    </tr>\n",
       "    <tr>\n",
       "      <th>3</th>\n",
       "      <td>-71.085050</td>\n",
       "      <td>42.345520</td>\n",
       "    </tr>\n",
       "    <tr>\n",
       "      <th>4</th>\n",
       "      <td>-71.129410</td>\n",
       "      <td>42.236300</td>\n",
       "    </tr>\n",
       "    <tr>\n",
       "      <th>5</th>\n",
       "      <td>-71.064260</td>\n",
       "      <td>42.378930</td>\n",
       "    </tr>\n",
       "    <tr>\n",
       "      <th>6</th>\n",
       "      <td>-71.080600</td>\n",
       "      <td>42.299400</td>\n",
       "    </tr>\n",
       "    <tr>\n",
       "      <th>7</th>\n",
       "      <td>-71.157830</td>\n",
       "      <td>42.290010</td>\n",
       "    </tr>\n",
       "    <tr>\n",
       "      <th>8</th>\n",
       "      <td>-71.050250</td>\n",
       "      <td>42.337880</td>\n",
       "    </tr>\n",
       "    <tr>\n",
       "      <th>9</th>\n",
       "      <td>-71.143550</td>\n",
       "      <td>42.291400</td>\n",
       "    </tr>\n",
       "    <tr>\n",
       "      <th>10</th>\n",
       "      <td>-71.079100</td>\n",
       "      <td>42.293260</td>\n",
       "    </tr>\n",
       "    <tr>\n",
       "      <th>11</th>\n",
       "      <td>-71.154790</td>\n",
       "      <td>42.348486</td>\n",
       "    </tr>\n",
       "    <tr>\n",
       "      <th>12</th>\n",
       "      <td>-71.111910</td>\n",
       "      <td>42.247520</td>\n",
       "    </tr>\n",
       "    <tr>\n",
       "      <th>13</th>\n",
       "      <td>-71.129510</td>\n",
       "      <td>42.288440</td>\n",
       "    </tr>\n",
       "    <tr>\n",
       "      <th>14</th>\n",
       "      <td>-71.169730</td>\n",
       "      <td>42.354660</td>\n",
       "    </tr>\n",
       "    <tr>\n",
       "      <th>15</th>\n",
       "      <td>-71.055032</td>\n",
       "      <td>42.359470</td>\n",
       "    </tr>\n",
       "    <tr>\n",
       "      <th>16</th>\n",
       "      <td>-71.087700</td>\n",
       "      <td>42.275730</td>\n",
       "    </tr>\n",
       "    <tr>\n",
       "      <th>17</th>\n",
       "      <td>-71.072130</td>\n",
       "      <td>42.353060</td>\n",
       "    </tr>\n",
       "    <tr>\n",
       "      <th>18</th>\n",
       "      <td>-71.077120</td>\n",
       "      <td>42.296550</td>\n",
       "    </tr>\n",
       "    <tr>\n",
       "      <th>19</th>\n",
       "      <td>-71.081350</td>\n",
       "      <td>42.303270</td>\n",
       "    </tr>\n",
       "    <tr>\n",
       "      <th>20</th>\n",
       "      <td>-71.169810</td>\n",
       "      <td>42.286920</td>\n",
       "    </tr>\n",
       "    <tr>\n",
       "      <th>21</th>\n",
       "      <td>-71.047823</td>\n",
       "      <td>42.286476</td>\n",
       "    </tr>\n",
       "    <tr>\n",
       "      <th>22</th>\n",
       "      <td>-71.062350</td>\n",
       "      <td>42.315992</td>\n",
       "    </tr>\n",
       "    <tr>\n",
       "      <th>23</th>\n",
       "      <td>-71.084720</td>\n",
       "      <td>42.289410</td>\n",
       "    </tr>\n",
       "    <tr>\n",
       "      <th>24</th>\n",
       "      <td>-71.121540</td>\n",
       "      <td>42.246740</td>\n",
       "    </tr>\n",
       "    <tr>\n",
       "      <th>25</th>\n",
       "      <td>-71.105178</td>\n",
       "      <td>42.330817</td>\n",
       "    </tr>\n",
       "    <tr>\n",
       "      <th>26</th>\n",
       "      <td>-71.105890</td>\n",
       "      <td>42.266760</td>\n",
       "    </tr>\n",
       "    <tr>\n",
       "      <th>27</th>\n",
       "      <td>-71.117340</td>\n",
       "      <td>42.275570</td>\n",
       "    </tr>\n",
       "    <tr>\n",
       "      <th>28</th>\n",
       "      <td>-71.065670</td>\n",
       "      <td>42.319390</td>\n",
       "    </tr>\n",
       "    <tr>\n",
       "      <th>29</th>\n",
       "      <td>-71.086340</td>\n",
       "      <td>42.351450</td>\n",
       "    </tr>\n",
       "    <tr>\n",
       "      <th>30</th>\n",
       "      <td>-71.114700</td>\n",
       "      <td>42.267920</td>\n",
       "    </tr>\n",
       "    <tr>\n",
       "      <th>31</th>\n",
       "      <td>-71.077160</td>\n",
       "      <td>42.299260</td>\n",
       "    </tr>\n",
       "    <tr>\n",
       "      <th>32</th>\n",
       "      <td>-71.084060</td>\n",
       "      <td>42.306500</td>\n",
       "    </tr>\n",
       "    <tr>\n",
       "      <th>33</th>\n",
       "      <td>-71.119220</td>\n",
       "      <td>42.313000</td>\n",
       "    </tr>\n",
       "    <tr>\n",
       "      <th>34</th>\n",
       "      <td>-71.032620</td>\n",
       "      <td>42.382110</td>\n",
       "    </tr>\n",
       "    <tr>\n",
       "      <th>35</th>\n",
       "      <td>-71.114590</td>\n",
       "      <td>42.263370</td>\n",
       "    </tr>\n",
       "    <tr>\n",
       "      <th>37</th>\n",
       "      <td>-71.064210</td>\n",
       "      <td>42.304440</td>\n",
       "    </tr>\n",
       "    <tr>\n",
       "      <th>38</th>\n",
       "      <td>-71.130600</td>\n",
       "      <td>31.000000</td>\n",
       "    </tr>\n",
       "    <tr>\n",
       "      <th>39</th>\n",
       "      <td>-71.088600</td>\n",
       "      <td>42.276060</td>\n",
       "    </tr>\n",
       "    <tr>\n",
       "      <th>40</th>\n",
       "      <td>-71.082420</td>\n",
       "      <td>42.276820</td>\n",
       "    </tr>\n",
       "    <tr>\n",
       "      <th>41</th>\n",
       "      <td>-71.069880</td>\n",
       "      <td>42.343660</td>\n",
       "    </tr>\n",
       "    <tr>\n",
       "      <th>42</th>\n",
       "      <td>-71.062337</td>\n",
       "      <td>42.374597</td>\n",
       "    </tr>\n",
       "    <tr>\n",
       "      <th>43</th>\n",
       "      <td>-71.123280</td>\n",
       "      <td>42.351640</td>\n",
       "    </tr>\n",
       "    <tr>\n",
       "      <th>44</th>\n",
       "      <td>-71.149840</td>\n",
       "      <td>42.352900</td>\n",
       "    </tr>\n",
       "    <tr>\n",
       "      <th>45</th>\n",
       "      <td>-71.052480</td>\n",
       "      <td>42.281960</td>\n",
       "    </tr>\n",
       "    <tr>\n",
       "      <th>48</th>\n",
       "      <td>-71.155280</td>\n",
       "      <td>42.341680</td>\n",
       "    </tr>\n",
       "    <tr>\n",
       "      <th>49</th>\n",
       "      <td>-71.171790</td>\n",
       "      <td>42.286120</td>\n",
       "    </tr>\n",
       "  </tbody>\n",
       "</table>\n",
       "</div>"
      ],
      "text/plain": [
       "          lat       long\n",
       "0  -71.040410  42.331260\n",
       "1  -71.113020  42.288600\n",
       "2  -71.112250  42.289820\n",
       "3  -71.085050  42.345520\n",
       "4  -71.129410  42.236300\n",
       "5  -71.064260  42.378930\n",
       "6  -71.080600  42.299400\n",
       "7  -71.157830  42.290010\n",
       "8  -71.050250  42.337880\n",
       "9  -71.143550  42.291400\n",
       "10 -71.079100  42.293260\n",
       "11 -71.154790  42.348486\n",
       "12 -71.111910  42.247520\n",
       "13 -71.129510  42.288440\n",
       "14 -71.169730  42.354660\n",
       "15 -71.055032  42.359470\n",
       "16 -71.087700  42.275730\n",
       "17 -71.072130  42.353060\n",
       "18 -71.077120  42.296550\n",
       "19 -71.081350  42.303270\n",
       "20 -71.169810  42.286920\n",
       "21 -71.047823  42.286476\n",
       "22 -71.062350  42.315992\n",
       "23 -71.084720  42.289410\n",
       "24 -71.121540  42.246740\n",
       "25 -71.105178  42.330817\n",
       "26 -71.105890  42.266760\n",
       "27 -71.117340  42.275570\n",
       "28 -71.065670  42.319390\n",
       "29 -71.086340  42.351450\n",
       "30 -71.114700  42.267920\n",
       "31 -71.077160  42.299260\n",
       "32 -71.084060  42.306500\n",
       "33 -71.119220  42.313000\n",
       "34 -71.032620  42.382110\n",
       "35 -71.114590  42.263370\n",
       "37 -71.064210  42.304440\n",
       "38 -71.130600  31.000000\n",
       "39 -71.088600  42.276060\n",
       "40 -71.082420  42.276820\n",
       "41 -71.069880  42.343660\n",
       "42 -71.062337  42.374597\n",
       "43 -71.123280  42.351640\n",
       "44 -71.149840  42.352900\n",
       "45 -71.052480  42.281960\n",
       "48 -71.155280  42.341680\n",
       "49 -71.171790  42.286120"
      ]
     },
     "execution_count": 7,
     "metadata": {},
     "output_type": "execute_result"
    }
   ],
   "source": [
    "df = pd.read_sql_query(\"SELECT * FROM data_for_feeding_to_the_model\", conn, index_col = 'index')\n",
    "df = df.iloc[1:]\n",
    "df['lat'] = df['lat'].astype('float')\n",
    "df['long'] = df['long'].astype('float')\n",
    "df = df.reset_index()\n",
    "df = df.drop(index=[36,46,47])\n",
    "df = df.drop(columns = ['index'])\n",
    "df"
   ]
  },
  {
   "cell_type": "code",
   "execution_count": 8,
   "metadata": {
    "scrolled": true
   },
   "outputs": [
    {
     "name": "stdout",
     "output_type": "stream",
     "text": [
      "<class 'pandas.core.frame.DataFrame'>\n",
      "Int64Index: 47 entries, 0 to 49\n",
      "Data columns (total 2 columns):\n",
      " #   Column  Non-Null Count  Dtype  \n",
      "---  ------  --------------  -----  \n",
      " 0   lat     47 non-null     float64\n",
      " 1   long    47 non-null     float64\n",
      "dtypes: float64(2)\n",
      "memory usage: 1.1 KB\n"
     ]
    }
   ],
   "source": [
    "df.info()"
   ]
  },
  {
   "cell_type": "code",
   "execution_count": 9,
   "metadata": {},
   "outputs": [],
   "source": [
    "# Parameters\n",
    "\n",
    "city = 'Boston'\n",
    "neighborhood = 'Government Center'\n",
    "population_density = 12932\n",
    "\n",
    "# Hypotheticals\n",
    "\n",
    "patient_age = 65\n",
    "age_multiplier = 0.5 # ranges from 0 to 1 where 1 is only age pop density, and 0 is only total population density\n",
    "c = 2 # magnitude of overall skew between lat/long\n",
    "\n",
    "average_population_density_usa = 33.86 #macrotrends\n",
    "patient_block_pop_density = 4864.88720 #city_data (people/km^2)\n",
    "\n",
    "average_age_group_pop_density = 38.1 #wiki\n",
    "patient_age_group_pop_density = 16.2 #worldbank"
   ]
  },
  {
   "cell_type": "code",
   "execution_count": 10,
   "metadata": {},
   "outputs": [],
   "source": [
    "# Step 1: Make population density estimate for age and population multipliers\n",
    "\n",
    "abpdm = average_age_group_pop_density / patient_age_group_pop_density\n",
    "tpdm = average_population_density_usa / patient_block_pop_density"
   ]
  },
  {
   "cell_type": "code",
   "execution_count": 11,
   "metadata": {},
   "outputs": [],
   "source": [
    "# Step 2: Combined multiplier\n",
    "\n",
    "cm = age_multiplier * abpdm + (1-age_multiplier) * tpdm\n",
    "\n",
    "# Step 3: overall anonymization multiplier\n",
    "\n",
    "overall_multiplier = c * ((age_multiplier*abpdm + (1-age_multiplier)*tpdm))"
   ]
  },
  {
   "cell_type": "code",
   "execution_count": 12,
   "metadata": {},
   "outputs": [
    {
     "data": {
      "text/plain": [
       "5.296199677938809"
      ]
     },
     "execution_count": 12,
     "metadata": {},
     "output_type": "execute_result"
    }
   ],
   "source": [
    "overall_multiplier"
   ]
  },
  {
   "cell_type": "code",
   "execution_count": 13,
   "metadata": {},
   "outputs": [],
   "source": [
    "# Gaussian skew\n",
    "\n",
    "import random\n",
    "import statistics\n",
    "\n",
    "mu_lat = df['lat'].mean()\n",
    "mu_long = df['long'].mean()\n",
    "\n",
    "sigma_lat = df['lat'].std()\n",
    "sigma_long = df['long'].std()\n",
    "\n",
    "rand_gauss_lat = random.gauss(mu_lat,sigma_lat)\n",
    "rand_gauss_long = random.gauss(mu_long, sigma_long)"
   ]
  },
  {
   "cell_type": "code",
   "execution_count": 14,
   "metadata": {},
   "outputs": [],
   "source": [
    "def gaussian_blur(x, mu, sigma):\n",
    "    \n",
    "    g = (1/((2*math.pi*(sigma))**2))**(-(x**2+mu**2)/(2*sigma)**2)\n",
    "    \n",
    "    print(round(g,5))\n",
    "    "
   ]
  },
  {
   "cell_type": "code",
   "execution_count": 15,
   "metadata": {},
   "outputs": [
    {
     "name": "stdout",
     "output_type": "stream",
     "text": [
      "0.0\n"
     ]
    }
   ],
   "source": [
    "gaussian_blur(-71,mu_lat,sigma_lat)"
   ]
  },
  {
   "cell_type": "code",
   "execution_count": 16,
   "metadata": {},
   "outputs": [
    {
     "name": "stderr",
     "output_type": "stream",
     "text": [
      "/Library/Frameworks/Python.framework/Versions/3.8/lib/python3.8/site-packages/numpy/core/_methods.py:205: RuntimeWarning: overflow encountered in multiply\n",
      "  x = um.multiply(x, x, out=x)\n",
      "/Library/Frameworks/Python.framework/Versions/3.8/lib/python3.8/site-packages/numpy/core/_methods.py:216: RuntimeWarning: overflow encountered in reduce\n",
      "  ret = umr_sum(x, axis, dtype, out, keepdims)\n"
     ]
    }
   ],
   "source": [
    "from sklearn.preprocessing import PowerTransformer\n",
    "from matplotlib import pyplot\n",
    "\n",
    "power = PowerTransformer(method='yeo-johnson', standardize=True)\n",
    "data_trans = power.fit_transform(df)"
   ]
  },
  {
   "cell_type": "code",
   "execution_count": 17,
   "metadata": {},
   "outputs": [
    {
     "data": {
      "image/png": "[encoded data removed]",
      "text/plain": [
       "<Figure size 432x288 with 1 Axes>"
      ]
     },
     "metadata": {
      "needs_background": "light"
     },
     "output_type": "display_data"
    }
   ],
   "source": [
    "pyplot.hist(data_trans, bins=25)\n",
    "pyplot.show()"
   ]
  },
  {
   "cell_type": "code",
   "execution_count": 18,
   "metadata": {},
   "outputs": [
    {
     "data": {
      "text/plain": [
       "array([[ 1.59889344,  0.41597819],\n",
       "       [-0.38194659, -0.15223948],\n",
       "       [-0.36061447, -0.13671236],\n",
       "       [ 0.37991496,  0.61799798],\n",
       "       [-0.82687374, -0.78048175],\n",
       "       [ 0.94775577,  1.11660473],\n",
       "       [ 0.50079699, -0.01334072],\n",
       "       [-1.59787762, -0.13429049],\n",
       "       [ 1.33071817,  0.50898331],\n",
       "       [-1.21186777, -0.11654202],\n",
       "       [ 0.54244542, -0.092708  ],\n",
       "       [-1.51559658,  0.66081061],\n",
       "       [-0.35147213, -0.65167555],\n",
       "       [-0.82992118, -0.15427276],\n",
       "       [-1.92090692,  0.75082039],\n",
       "       [ 1.19967799,  0.82178611],\n",
       "       [ 0.30779207, -0.31354688],\n",
       "       [ 0.7324029 ,  0.72737801],\n",
       "       [ 0.59628364, -0.05031266],\n",
       "       [ 0.48048068,  0.03723228],\n",
       "       [-1.92192274, -0.17355362],\n",
       "       [ 1.39674618, -0.17917361],\n",
       "       [ 0.99956235,  0.20652002],\n",
       "       [ 0.3890573 , -0.1419351 ],\n",
       "       [-0.6135525 , -0.66073233],\n",
       "       [-0.16862536,  0.40980216],\n",
       "       [-0.18792585, -0.42332639],\n",
       "       [-0.49876536, -0.31552391],\n",
       "       [ 0.90813897,  0.2525357 ],\n",
       "       [ 0.34436142,  0.70387137],\n",
       "       [-0.42765828, -0.4092503 ],\n",
       "       [ 0.59526782, -0.01516225],\n",
       "       [ 0.40734198,  0.07976951],\n",
       "       [-0.55057195,  0.16628341],\n",
       "       [ 1.81221467,  1.16597891],\n",
       "       [-0.42461084, -0.46425906],\n",
       "       [ 0.94877158,  0.05260594],\n",
       "       [-0.85937983, -5.92251033],\n",
       "       [ 0.28239668, -0.30946707],\n",
       "       [ 0.45102204, -0.30005999],\n",
       "       [ 0.79335183,  0.59129055],\n",
       "       [ 0.99956235,  1.0498728 ],\n",
       "       [-0.66129583,  0.70664116],\n",
       "       [-1.38150894,  0.72503826],\n",
       "       [ 1.26976925, -0.2360276 ],\n",
       "       [-1.52880218,  0.56297864],\n",
       "       [-1.97576095, -0.18367581]])"
      ]
     },
     "execution_count": 18,
     "metadata": {},
     "output_type": "execute_result"
    }
   ],
   "source": [
    "data_trans"
   ]
  },
  {
   "cell_type": "code",
   "execution_count": 19,
   "metadata": {},
   "outputs": [],
   "source": [
    "df = pd.DataFrame(data_trans)\n",
    "df.columns = ['trans_lat', 'trans_long']"
   ]
  },
  {
   "cell_type": "code",
   "execution_count": 20,
   "metadata": {},
   "outputs": [],
   "source": [
    "df['multi_lat'] = overall_multiplier*df['trans_lat']\n",
    "df['multi_long'] = overall_multiplier*df['trans_long']"
   ]
  },
  {
   "cell_type": "code",
   "execution_count": 21,
   "metadata": {},
   "outputs": [
    {
     "data": {
      "text/html": [
       "<div>\n",
       "<style scoped>\n",
       "    .dataframe tbody tr th:only-of-type {\n",
       "        vertical-align: middle;\n",
       "    }\n",
       "\n",
       "    .dataframe tbody tr th {\n",
       "        vertical-align: top;\n",
       "    }\n",
       "\n",
       "    .dataframe thead th {\n",
       "        text-align: right;\n",
       "    }\n",
       "</style>\n",
       "<table border=\"1\" class=\"dataframe\">\n",
       "  <thead>\n",
       "    <tr style=\"text-align: right;\">\n",
       "      <th></th>\n",
       "      <th>trans_lat</th>\n",
       "      <th>trans_long</th>\n",
       "      <th>multi_lat</th>\n",
       "      <th>multi_long</th>\n",
       "    </tr>\n",
       "  </thead>\n",
       "  <tbody>\n",
       "    <tr>\n",
       "      <th>0</th>\n",
       "      <td>1.598893</td>\n",
       "      <td>0.415978</td>\n",
       "      <td>8.468059</td>\n",
       "      <td>2.203104</td>\n",
       "    </tr>\n",
       "    <tr>\n",
       "      <th>1</th>\n",
       "      <td>-0.381947</td>\n",
       "      <td>-0.152239</td>\n",
       "      <td>-2.022865</td>\n",
       "      <td>-0.806291</td>\n",
       "    </tr>\n",
       "    <tr>\n",
       "      <th>2</th>\n",
       "      <td>-0.360614</td>\n",
       "      <td>-0.136712</td>\n",
       "      <td>-1.909886</td>\n",
       "      <td>-0.724056</td>\n",
       "    </tr>\n",
       "    <tr>\n",
       "      <th>3</th>\n",
       "      <td>0.379915</td>\n",
       "      <td>0.617998</td>\n",
       "      <td>2.012105</td>\n",
       "      <td>3.273041</td>\n",
       "    </tr>\n",
       "    <tr>\n",
       "      <th>4</th>\n",
       "      <td>-0.826874</td>\n",
       "      <td>-0.780482</td>\n",
       "      <td>-4.379288</td>\n",
       "      <td>-4.133587</td>\n",
       "    </tr>\n",
       "  </tbody>\n",
       "</table>\n",
       "</div>"
      ],
      "text/plain": [
       "   trans_lat  trans_long  multi_lat  multi_long\n",
       "0   1.598893    0.415978   8.468059    2.203104\n",
       "1  -0.381947   -0.152239  -2.022865   -0.806291\n",
       "2  -0.360614   -0.136712  -1.909886   -0.724056\n",
       "3   0.379915    0.617998   2.012105    3.273041\n",
       "4  -0.826874   -0.780482  -4.379288   -4.133587"
      ]
     },
     "execution_count": 21,
     "metadata": {},
     "output_type": "execute_result"
    }
   ],
   "source": [
    "df.head()"
   ]
  },
  {
   "cell_type": "code",
   "execution_count": 24,
   "metadata": {},
   "outputs": [
    {
     "data": {
      "image/png": "[encoded data removed]",
      "text/plain": [
       "<Figure size 432x288 with 1 Axes>"
      ]
     },
     "metadata": {
      "needs_background": "light"
     },
     "output_type": "display_data"
    }
   ],
   "source": [
    "pyplot.hist(df['multi_lat'])\n",
    "pyplot.show()"
   ]
  },
  {
   "cell_type": "code",
   "execution_count": 28,
   "metadata": {},
   "outputs": [
    {
     "name": "stdout",
     "output_type": "stream",
     "text": [
      "statistic = 0.961, p=0.118\n",
      "\n",
      "Probably Gaussian\n"
     ]
    }
   ],
   "source": [
    "from scipy.stats import shapiro\n",
    "\n",
    "data = np.array(df['multi_lat'])\n",
    "statistic, pvalue = shapiro(data)\n",
    "print('statistic = %.3f, p=%.3f\\n' % (statistic, pvalue))\n",
    "if pvalue > 0.05:\n",
    "    print('Probably Gaussian')\n",
    "else:\n",
    "    print('Probably not Gaussian')"
   ]
  },
  {
   "cell_type": "code",
   "execution_count": 29,
   "metadata": {},
   "outputs": [
    {
     "name": "stdout",
     "output_type": "stream",
     "text": [
      "statistic = 0.581, p=0.000\n",
      "\n",
      "Probably not Gaussian\n"
     ]
    }
   ],
   "source": [
    "from scipy.stats import shapiro\n",
    "\n",
    "data = np.array(df['multi_long'])\n",
    "statistic, pvalue = shapiro(data)\n",
    "print('statistic = %.3f, p=%.3f\\n' % (statistic, pvalue))\n",
    "if pvalue > 0.05:\n",
    "    print('Probably Gaussian')\n",
    "else:\n",
    "    print('Probably not Gaussian')"
   ]
  },
  {
   "cell_type": "code",
   "execution_count": 30,
   "metadata": {},
   "outputs": [
    {
     "data": {
      "image/png": "[encoded data removed]",
      "text/plain": [
       "<Figure size 432x288 with 1 Axes>"
      ]
     },
     "metadata": {
      "needs_background": "light"
     },
     "output_type": "display_data"
    }
   ],
   "source": [
    "pyplot.hist(df['multi_long'])\n",
    "pyplot.show()"
   ]
  },
  {
   "cell_type": "code",
   "execution_count": 32,
   "metadata": {},
   "outputs": [],
   "source": [
    "# local population density (city_data) * area (city_data) * probability = k-anonymity \n",
    "\n",
    "# Example spatial k-anonymity\n",
    "\n",
    "one_std = patient_block_pop_density * 0.01313 * 0.6827\n",
    "two_std = patient_block_pop_density * 0.01313 * 0.9545\n",
    "three_std = patient_block_pop_density * 0.01313 * 0.9973"
   ]
  },
  {
   "cell_type": "code",
   "execution_count": 33,
   "metadata": {},
   "outputs": [
    {
     "data": {
      "text/plain": [
       "0.10308428649999998"
      ]
     },
     "execution_count": 33,
     "metadata": {},
     "output_type": "execute_result"
    }
   ],
   "source": [
    "one_std"
   ]
  },
  {
   "cell_type": "code",
   "execution_count": 34,
   "metadata": {},
   "outputs": [
    {
     "data": {
      "text/plain": [
       "0.1441247275"
      ]
     },
     "execution_count": 34,
     "metadata": {},
     "output_type": "execute_result"
    }
   ],
   "source": [
    "two_std"
   ]
  },
  {
   "cell_type": "code",
   "execution_count": 35,
   "metadata": {},
   "outputs": [
    {
     "data": {
      "text/plain": [
       "0.1505873135"
      ]
     },
     "execution_count": 35,
     "metadata": {},
     "output_type": "execute_result"
    }
   ],
   "source": [
    "three_std"
   ]
  },
  {
   "cell_type": "code",
   "execution_count": null,
   "metadata": {},
   "outputs": [],
   "source": []
  }
 ],
 "metadata": {
  "kernelspec": {
   "display_name": "Python 3",
   "language": "python",
   "name": "python3"
  },
  "language_info": {
   "codemirror_mode": {
    "name": "ipython",
    "version": 3
   },
   "file_extension": ".py",
   "mimetype": "text/x-python",
   "name": "python",
   "nbconvert_exporter": "python",
   "pygments_lexer": "ipython3",
   "version": "3.8.5"
  }
 },
 "nbformat": 4,
 "nbformat_minor": 4
}
